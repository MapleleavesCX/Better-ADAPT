{
 "cells": [
  {
   "cell_type": "markdown",
   "metadata": {},
   "source": [
    "# 测试 Better-Adapt 策略在 NBC 指标下对比 ADAPT 的表现"
   ]
  },
  {
   "cell_type": "code",
   "execution_count": null,
   "metadata": {},
   "outputs": [],
   "source": [
    "import sys\n",
    "sys.path.append('/mnt/e/_01Experimental_task/Graduation_Project/better-adapt')"
   ]
  },
  {
   "cell_type": "code",
   "execution_count": null,
   "metadata": {},
   "outputs": [],
   "source": [
    "import tensorflow as tf\n",
    "gpus = tf.config.experimental.list_physical_devices('GPU')\n",
    "if gpus:\n",
    "    try:\n",
    "        print(\"yes!\")\n",
    "        tf.config.experimental.set_memory_growth(gpus[0], True)\n",
    "    except RuntimeError as e:\n",
    "        print(e)"
   ]
  },
  {
   "cell_type": "markdown",
   "metadata": {},
   "source": [
    "## 加载模型"
   ]
  },
  {
   "cell_type": "markdown",
   "metadata": {},
   "source": [
    "### 1.分割数据集"
   ]
  },
  {
   "cell_type": "code",
   "execution_count": null,
   "metadata": {},
   "outputs": [],
   "source": [
    "from tensorflow.keras.datasets import mnist\n",
    "from tensorflow.keras.utils import to_categorical"
   ]
  },
  {
   "cell_type": "code",
   "execution_count": null,
   "metadata": {},
   "outputs": [],
   "source": [
    "(x_train, y_train), (x_test, y_test) = mnist.load_data()\n",
    "\n",
    "x_train = x_train.reshape(x_train.shape[0], 28, 28, 1)\n",
    "x_test = x_test.reshape(x_test.shape[0], 28, 28, 1)\n",
    "\n",
    "x_train = x_train.astype('float32')\n",
    "x_test = x_test.astype('float32')\n",
    "x_train /= 255\n",
    "x_test /= 255\n",
    "\n",
    "y_train = to_categorical(y_train, 10)\n",
    "y_test = to_categorical(y_test, 10)"
   ]
  },
  {
   "cell_type": "markdown",
   "metadata": {},
   "source": [
    "设置时间 "
   ]
  },
  {
   "cell_type": "code",
   "execution_count": null,
   "metadata": {},
   "outputs": [],
   "source": [
    "from datetime import datetime\n",
    "#from concurrent.futures import ThreadPoolExecutor # 多线程尝试\n",
    "from tqdm import tqdm\n",
    "\n",
    "# 设置时间  \n",
    "set_hours=0\n",
    "set_minutes=1\n",
    "set_seconds=0"
   ]
  },
  {
   "cell_type": "markdown",
   "metadata": {},
   "source": [
    "选择样本"
   ]
  },
  {
   "cell_type": "code",
   "execution_count": null,
   "metadata": {},
   "outputs": [],
   "source": [
    "import matplotlib.pyplot as plt\n",
    "import numpy as np\n",
    "import random\n",
    "\n",
    "# 超参数 选取的样本数量(至少2个)\n",
    "N = 5\n",
    "M = len(x_test)"
   ]
  },
  {
   "cell_type": "code",
   "execution_count": null,
   "metadata": {},
   "outputs": [],
   "source": [
    "# 挑选一些图片用于白盒测试\n",
    "# indices = [800, 3433, 3496, 3592, 4322, 4395, 4706, 6101, 6223, 6715, \n",
    "#            7190, 7302, 7491, 7715, 8149, 8267, 8608, 9197, 9721, 9795]\n",
    "\n",
    "# 随机取样\n",
    "indices = random.sample(range(0, M + 1), N)\n",
    "print(indices)"
   ]
  },
  {
   "cell_type": "code",
   "execution_count": null,
   "metadata": {},
   "outputs": [],
   "source": [
    "images = x_test[indices]\n",
    "fig, ax = plt.subplots(1, len(images), figsize=(len(images) * 2, 2))\n",
    "for i, idx in enumerate(indices):\n",
    "    ax[i].set_axis_off()\n",
    "    ax[i].title.set_text(str(np.argmax(y_test[idx])))\n",
    "    ax[i].imshow(np.reshape(images[i], (28, 28)), cmap='gray')\n",
    "plt.show()"
   ]
  },
  {
   "cell_type": "markdown",
   "metadata": {},
   "source": [
    "### 2. 导入模型"
   ]
  },
  {
   "cell_type": "code",
   "execution_count": null,
   "metadata": {},
   "outputs": [],
   "source": [
    "from model.model import LeNet5\n",
    "\n",
    "model = LeNet5()\n",
    "model.summary()"
   ]
  },
  {
   "cell_type": "markdown",
   "metadata": {},
   "source": [
    "### 3. 训练"
   ]
  },
  {
   "cell_type": "code",
   "execution_count": null,
   "metadata": {},
   "outputs": [],
   "source": [
    "model.compile(loss='categorical_crossentropy', optimizer='adam', metrics=['accuracy'])\n",
    "\n",
    "_ = model.fit(x_train, y_train, validation_data=(x_test, y_test), batch_size=256, epochs=10, verbose=1)"
   ]
  },
  {
   "cell_type": "markdown",
   "metadata": {},
   "source": [
    "The final accuracy of the trained model is about 99%."
   ]
  },
  {
   "cell_type": "markdown",
   "metadata": {},
   "source": [
    "## 白盒测试"
   ]
  },
  {
   "cell_type": "markdown",
   "metadata": {},
   "source": [
    "### 2. 创建测试策略"
   ]
  },
  {
   "cell_type": "code",
   "execution_count": null,
   "metadata": {},
   "outputs": [],
   "source": [
    "from adapt.network import Network\n",
    "from adapt.fuzzer import WhiteBoxFuzzer"
   ]
  },
  {
   "cell_type": "code",
   "execution_count": null,
   "metadata": {},
   "outputs": [],
   "source": [
    "network = Network(model)"
   ]
  },
  {
   "cell_type": "code",
   "execution_count": null,
   "metadata": {},
   "outputs": [],
   "source": [
    "import importlib\n",
    "import adapt.metric as me\n",
    "importlib.reload(me)"
   ]
  },
  {
   "cell_type": "markdown",
   "metadata": {},
   "source": [
    "### 选择覆盖率指标"
   ]
  },
  {
   "cell_type": "code",
   "execution_count": null,
   "metadata": {},
   "outputs": [],
   "source": [
    "from adapt.metric import NeuronCoverage\n",
    "from adapt.metric import NeuronBoundaryCoverage\n",
    "from adapt.metric import StrongNeuronActivationCoverage\n",
    "from adapt.metric import SignSignCoverage\n",
    "\n",
    "NC = NeuronCoverage()\n",
    "NBC = NeuronBoundaryCoverage()\n",
    "SNAC = StrongNeuronActivationCoverage()\n",
    "SSC = SignSignCoverage()"
   ]
  },
  {
   "cell_type": "markdown",
   "metadata": {},
   "source": [
    "### 加载输入到测试工具"
   ]
  },
  {
   "cell_type": "code",
   "execution_count": null,
   "metadata": {},
   "outputs": [],
   "source": [
    "from adapt.strategy import BetterAdaptiveStrategy\n",
    "from adapt.strategy import AdaptiveParameterizedStrategy"
   ]
  },
  {
   "cell_type": "markdown",
   "metadata": {},
   "source": [
    "## NBC"
   ]
  },
  {
   "cell_type": "code",
   "execution_count": null,
   "metadata": {},
   "outputs": [],
   "source": [
    "fuzzers_better_nbc = []"
   ]
  },
  {
   "cell_type": "code",
   "execution_count": null,
   "metadata": {},
   "outputs": [],
   "source": [
    "for image in images:\n",
    "    strategy = BetterAdaptiveStrategy(network)\n",
    "    fuzzer = WhiteBoxFuzzer(network, image, NBC, strategy)\n",
    "    fuzzers_better_nbc.append(fuzzer)"
   ]
  },
  {
   "cell_type": "code",
   "execution_count": null,
   "metadata": {},
   "outputs": [],
   "source": [
    "archives_better_nbc = []\n",
    "for i in tqdm(range(len(fuzzers_better_nbc)), desc='Better-ADAPT running...', unit='fuzzer'):  # 使用 tqdm 创建进度条\n",
    "    fuzzer = fuzzers_better_nbc[i]\n",
    "    result = fuzzer.start(hours=set_hours, minutes=set_minutes, seconds=set_seconds, append='min_dist')\n",
    "    archives_better_nbc.append(result)\n",
    "print('Done')"
   ]
  },
  {
   "cell_type": "markdown",
   "metadata": {},
   "source": [
    "### 4. 测试结果"
   ]
  },
  {
   "cell_type": "code",
   "execution_count": null,
   "metadata": {},
   "outputs": [],
   "source": [
    "def align_coverages(coverages, target_length=61):\n",
    "    aligned_coverages = []\n",
    "    for coverage in coverages:\n",
    "        if len(coverage) > target_length:\n",
    "            aligned_coverages.append(coverage[:target_length])  # 截断\n",
    "        else:\n",
    "            aligned_coverages.append(coverage + [coverage[-1]] * (target_length - len(coverage)))  # 填充\n",
    "    return np.array(aligned_coverages)"
   ]
  },
  {
   "cell_type": "code",
   "execution_count": null,
   "metadata": {},
   "outputs": [],
   "source": [
    "# 这里代表横坐标的时间应与设置的时间相同（当然也可以自己调整）\n",
    "set_time = set_hours*3600+set_minutes*60+set_seconds+1"
   ]
  },
  {
   "cell_type": "code",
   "execution_count": null,
   "metadata": {},
   "outputs": [],
   "source": [
    "times = list(range(set_time))\n",
    "\n",
    "\n",
    "coverages_better = []\n",
    "coverages = []\n",
    "for archive in archives_better_nbc:\n",
    "    current_t = 0\n",
    "    coverage = []\n",
    "    for t, cov in archive.timestamp:\n",
    "        if t > current_t:\n",
    "            coverage.append(cov)\n",
    "            current_t += 1\n",
    "    coverages.append(coverage)\n",
    "coverages = align_coverages(coverages, set_time)\n",
    "coverages = np.array(coverages, dtype=object)\n",
    "coverages = np.mean(coverages, axis=0)\n",
    "coverages_better.append(coverages)\n"
   ]
  },
  {
   "cell_type": "code",
   "execution_count": null,
   "metadata": {},
   "outputs": [],
   "source": [
    "\n",
    "# 绘制 better 的折线图\n",
    "plt.plot(coverages_better[i], linestyle='-', label=f'Better-NBC')\n",
    "\n",
    "# 添加图例、标题和坐标轴标签\n",
    "plt.legend(title=\"Legend\", loc=\"upper left\", fontsize=10)  # 设置图例标题和位置\n",
    "plt.title('LeNet-5')\n",
    "plt.xlabel('Time/s')\n",
    "plt.ylabel('Coverage')\n",
    "\n",
    "# 显示图形\n",
    "plt.show()"
   ]
  },
  {
   "cell_type": "code",
   "execution_count": null,
   "metadata": {},
   "outputs": [],
   "source": [
    "B = [[],[],[]]\n",
    "for archives in archives_better_nbc:\n",
    "    total = 0\n",
    "    adversarial = 0\n",
    "    distance = 0\n",
    "    for archive in archives: # 具体到每个样本的测试输出\n",
    "        total += archive.total\n",
    "        adversarial += archive.adversarials\n",
    "        d = 0.5 if archive.adversarials == 0 else np.mean(np.concatenate([archive.distance[label] for label in archive.distance.keys() if label != archive.label]))\n",
    "        distance += d\n",
    "    \n",
    "    B[0].append(total)\n",
    "    B[1].append(adversarial)\n",
    "    B[2].append(distance / len(archives))"
   ]
  },
  {
   "cell_type": "code",
   "execution_count": null,
   "metadata": {},
   "outputs": [],
   "source": [
    "print(\"Better-ADAPT output:\")\n",
    "print(\"totals:\", B[0])\n",
    "print(\"adversarials:\", B[1])\n",
    "print(\"A/T:\", np.array(B[1])/np.array(B[0]))\n",
    "print(\"distance:\", B[2])"
   ]
  },
  {
   "cell_type": "markdown",
   "metadata": {},
   "source": [
    "### 选择打印样本的对应结果"
   ]
  },
  {
   "cell_type": "code",
   "execution_count": null,
   "metadata": {},
   "outputs": [],
   "source": [
    "print(f'Better-ADAPT: Metric is NBC')\n",
    "for index, archive in enumerate(archives_better_nbc):\n",
    "    print(f\"第{index}个输入样本\")\n",
    "    num_subplots = len(archive.found_labels)\n",
    "\n",
    "    # 创建子图\n",
    "    fig, ax = plt.subplots(1, num_subplots, figsize=(num_subplots * 2, 2))\n",
    "\n",
    "    # 如果只有一个子图，将 ax 转换为列表\n",
    "    if num_subplots == 1:\n",
    "        ax = [ax]\n",
    "\n",
    "    # 绘制每个子图\n",
    "    for i, label in enumerate(archive.found_labels.keys()):\n",
    "        ax[i].set_axis_off()  # 关闭坐标轴\n",
    "        ax[i].set_title(str(label))  # 设置标题\n",
    "        ax[i].imshow(\n",
    "            np.reshape(archive.inputs[label][0], (28, 28)).clip(0, 1),\n",
    "            cmap='gray'\n",
    "        )\n",
    "\n",
    "    plt.show()"
   ]
  }
 ],
 "metadata": {
  "kernelspec": {
   "display_name": "Python 3",
   "language": "python",
   "name": "python3"
  },
  "language_info": {
   "codemirror_mode": {
    "name": "ipython",
    "version": 3
   },
   "file_extension": ".py",
   "mimetype": "text/x-python",
   "name": "python",
   "nbconvert_exporter": "python",
   "pygments_lexer": "ipython3",
   "version": "3.10.12"
  }
 },
 "nbformat": 4,
 "nbformat_minor": 2
}
